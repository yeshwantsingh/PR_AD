{
  "nbformat": 4,
  "nbformat_minor": 0,
  "metadata": {
    "colab": {
      "name": "WOA7015_Wk9_Extra.ipynb",
      "provenance": [],
      "authorship_tag": "ABX9TyMuy2xu5jnoqDQLIYuEVjiC",
      "include_colab_link": true
    },
    "kernelspec": {
      "name": "python3",
      "display_name": "Python 3"
    },
    "language_info": {
      "name": "python"
    }
  },
  "cells": [
    {
      "cell_type": "markdown",
      "metadata": {
        "id": "view-in-github",
        "colab_type": "text"
      },
      "source": [
        "<a href=\"https://colab.research.google.com/github/shiernee/Advanced_ML/blob/main/Week9/WOA7015_Wk9_Extra.ipynb\" target=\"_parent\"><img src=\"https://colab.research.google.com/assets/colab-badge.svg\" alt=\"Open In Colab\"/></a>"
      ]
    },
    {
      "cell_type": "markdown",
      "source": [
        "# Welcome to WOA7015 Advance Machine Learning Lab - Week 9_extra\n",
        "This code is generated for the purpose of WOA7015 module.\n",
        "The code is available in github https://github.com/shiernee/Advanced_ML \n"
      ],
      "metadata": {
        "id": "NB-ogNj0uNhs"
      }
    },
    {
      "cell_type": "code",
      "execution_count": null,
      "metadata": {
        "colab": {
          "base_uri": "https://localhost:8080/"
        },
        "id": "jy2YuQ-suK7m",
        "outputId": "6b840de3-ef3c-4c76-f537-29c146f02be1"
      },
      "outputs": [
        {
          "output_type": "stream",
          "name": "stdout",
          "text": [
            "[]\n"
          ]
        }
      ],
      "source": [
        "# Create an empty graph with no nodes and no edges.\n",
        "import networkx as nx\n",
        "G = nx.Graph()\n",
        "print(list(G.nodes))  # examine element in nodes"
      ]
    },
    {
      "cell_type": "markdown",
      "source": [
        "## Add nodes"
      ],
      "metadata": {
        "id": "zM4dl6K8wMhj"
      }
    },
    {
      "cell_type": "code",
      "source": [
        "G.add_node(1)  # add one node\n",
        "print(list(G.nodes)) \n",
        "print()\n",
        "\n",
        "G.add_nodes_from([2, 3]) # add nodes from any iterable container, such as a list\n",
        "print(list(G.nodes))\n",
        "print()\n",
        "\n",
        "# add nodes along with node attributes if your container yields 2-tuples of the form (node, node_attribute_dict)\n",
        "G.add_nodes_from([\n",
        "    (4, {\"color\": \"red\"}),\n",
        "    (5, {\"color\": \"green\"}),\n",
        "])\n",
        "print(list(G.nodes))  \n",
        "print()\n",
        "\n",
        "# Nodes from one graph can be incorporated into another:\n",
        "H = nx.path_graph(10)\n",
        "print('H nodes: ', list(H.nodes))\n",
        "G.add_nodes_from(H)\n",
        "print('G nodes: ', list(G.nodes))\n",
        "print()\n",
        "\n",
        "G.add_node(H)\n",
        "print('G nodes: ', list(G.nodes))\n"
      ],
      "metadata": {
        "colab": {
          "base_uri": "https://localhost:8080/"
        },
        "id": "fbLKZrdfujay",
        "outputId": "b0cd5a63-e817-4d0f-f545-092103200071"
      },
      "execution_count": null,
      "outputs": [
        {
          "output_type": "stream",
          "name": "stdout",
          "text": [
            "[1]\n",
            "\n",
            "[1, 2, 3]\n",
            "\n",
            "[1, 2, 3, 4, 5]\n",
            "\n",
            "H nodes:  [0, 1, 2, 3, 4, 5, 6, 7, 8, 9]\n",
            "G nodes:  [1, 2, 3, 4, 5, 0, 6, 7, 8, 9]\n",
            "\n",
            "G nodes:  [1, 2, 3, 4, 5, 0, 6, 7, 8, 9, <networkx.classes.graph.Graph object at 0x7f9be19f4f10>]\n"
          ]
        }
      ]
    },
    {
      "cell_type": "markdown",
      "source": [
        "# Add edges"
      ],
      "metadata": {
        "id": "_0Fx_PkVwObo"
      }
    },
    {
      "cell_type": "code",
      "source": [
        "G.add_edge(1, 2)\n",
        "print(list(G.edges))\n",
        "print()\n",
        "\n",
        "e = (2, 3)\n",
        "G.add_edge(*e)  # unpack edge tuple*\n",
        "print(list(G.edges))\n",
        "print()\n",
        "\n",
        "G.add_edges_from([(1, 2), (1, 3)])\n",
        "print(list(G.edges))\n",
        "print()\n",
        "\n",
        "G.add_edges_from(H.edges)\n",
        "\n",
        "print(list(G.adj[1]))  # or list(G.neighbors(1))"
      ],
      "metadata": {
        "colab": {
          "base_uri": "https://localhost:8080/"
        },
        "id": "p08Fo4XLwPb9",
        "outputId": "087921c5-bd2d-40d3-eb39-a200687d36d9"
      },
      "execution_count": null,
      "outputs": [
        {
          "output_type": "stream",
          "name": "stdout",
          "text": [
            "[(1, 2), (2, 3)]\n",
            "\n",
            "[(1, 2), (2, 3)]\n",
            "\n",
            "[1, 2, 3, 4, 5, 0, 6, 7, 8, 9, <networkx.classes.graph.Graph object at 0x7f9be19f4f10>]\n"
          ]
        }
      ]
    }
  ]
}