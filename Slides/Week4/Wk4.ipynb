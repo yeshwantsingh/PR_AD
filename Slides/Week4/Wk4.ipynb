{
 "cells": [
  {
   "cell_type": "markdown",
   "metadata": {
    "colab_type": "text",
    "id": "view-in-github"
   },
   "source": [
    "<a href=\"https://colab.research.google.com/github/shiernee/Advanced_ML/blob/main/Week4/WOA7015_Wk4.ipynb\" target=\"_parent\"><img src=\"https://colab.research.google.com/assets/colab-badge.svg\" alt=\"Open In Colab\"/></a>"
   ]
  },
  {
   "cell_type": "markdown",
   "metadata": {
    "id": "INxzH5Bqw5dq"
   },
   "source": [
    "## 1.0 Effect of weight and bias to sigmoid function\n",
    "This is the code to generate the figure in slide 6"
   ]
  },
  {
   "cell_type": "markdown",
   "metadata": {
    "id": "2HctFBauH47o"
   },
   "source": [
    "#### 1.1 Effect of weight on sigmoid function"
   ]
  },
  {
   "cell_type": "code",
   "execution_count": 1,
   "metadata": {
    "id": "ah7KAg-fsGWY"
   },
   "outputs": [
    {
     "ename": "ModuleNotFoundError",
     "evalue": "No module named 'imageio'",
     "output_type": "error",
     "traceback": [
      "\u001b[1;31m---------------------------------------------------------------------------\u001b[0m",
      "\u001b[1;31mModuleNotFoundError\u001b[0m                       Traceback (most recent call last)",
      "Cell \u001b[1;32mIn[1], line 3\u001b[0m\n\u001b[0;32m      1\u001b[0m \u001b[38;5;28;01mimport\u001b[39;00m \u001b[38;5;21;01mmatplotlib\u001b[39;00m\u001b[38;5;21;01m.\u001b[39;00m\u001b[38;5;21;01mpyplot\u001b[39;00m \u001b[38;5;28;01mas\u001b[39;00m \u001b[38;5;21;01mplt\u001b[39;00m\n\u001b[0;32m      2\u001b[0m \u001b[38;5;28;01mimport\u001b[39;00m \u001b[38;5;21;01mnumpy\u001b[39;00m \u001b[38;5;28;01mas\u001b[39;00m \u001b[38;5;21;01mnp\u001b[39;00m\n\u001b[1;32m----> 3\u001b[0m \u001b[38;5;28;01mimport\u001b[39;00m \u001b[38;5;21;01mimageio\u001b[39;00m\n\u001b[0;32m      5\u001b[0m \u001b[38;5;66;03m# create sigmoid function\u001b[39;00m\n\u001b[0;32m      6\u001b[0m f \u001b[38;5;241m=\u001b[39m \u001b[38;5;28;01mlambda\u001b[39;00m x, w, b: \u001b[38;5;241m1\u001b[39m\u001b[38;5;241m/\u001b[39m(\u001b[38;5;241m1\u001b[39m \u001b[38;5;241m+\u001b[39m np\u001b[38;5;241m.\u001b[39mexp(\u001b[38;5;241m-\u001b[39m(w\u001b[38;5;241m*\u001b[39mx \u001b[38;5;241m+\u001b[39m b)))\n",
      "\u001b[1;31mModuleNotFoundError\u001b[0m: No module named 'imageio'"
     ]
    }
   ],
   "source": [
    "import matplotlib.pyplot as plt\n",
    "import numpy as np\n",
    "import imageio\n",
    "\n",
    "# create sigmoid function\n",
    "f = lambda x, w, b: 1/(1 + np.exp(-(w*x + b)))\n",
    "\n",
    "x = np.arange(-10, 10, 0.01).reshape([-1, 1])\n",
    "\n",
    "# effect of weight on sigmoid function\n",
    "filenames = []\n",
    "for i in np.arange(1, 5, 0.1):\n",
    "  w = np.ones([1, 1]) * i * 0.5\n",
    "  b = np.ones([1, 1]) * 0\n",
    "\n",
    "  plt.plot(x, f(x, w, b))\n",
    "  plt.title('w = %0.1f' % i)\n",
    "  plt.grid()\n",
    "  plt.savefig('w %0.1f.png' % i)\n",
    "  plt.close()\n",
    "  filenames.append('w %0.1f.png' % i)\n",
    "\n",
    "# Build GIF\n",
    "with imageio.get_writer('w_mygif.gif', mode='I') as writer:\n",
    "    for filename in filenames:\n",
    "        image = imageio.imread(filename)\n",
    "        writer.append_data(image)\n",
    "\n"
   ]
  },
  {
   "cell_type": "markdown",
   "metadata": {
    "id": "JYbm63A9H91J"
   },
   "source": [
    "#### 1.1 Effect of bias on sigmoid function"
   ]
  },
  {
   "cell_type": "code",
   "execution_count": null,
   "metadata": {
    "id": "s1QreLFgHyIi"
   },
   "outputs": [],
   "source": [
    "import matplotlib.pyplot as plt\n",
    "import numpy as np\n",
    "import imageio\n",
    "\n",
    "# create sigmoid function\n",
    "f = lambda x, w, b: 1/(1 + np.exp(-(w*x + b)))\n",
    "\n",
    "x = np.arange(-10, 10, 0.01).reshape([-1, 1])\n",
    "\n",
    "# effect of bias on sigmoid function\n",
    "filenames = []\n",
    "for i in np.arange(1, 5, 0.1):\n",
    "  w = np.ones([1, 1])\n",
    "  b = np.ones([1, 1])* i\n",
    "\n",
    "  plt.plot(x, f(x, w, b))\n",
    "  plt.title('b = %0.1f' % i)\n",
    "  plt.grid()\n",
    "  plt.savefig('b %0.1f.png' % i)\n",
    "  plt.close()\n",
    "  filenames.append('b %0.1f.png' % i)\n",
    "\n",
    "# Build GIF\n",
    "with imageio.get_writer('b_mygif.gif', mode='I') as writer:\n",
    "    for filename in filenames:\n",
    "        image = imageio.imread(filename)\n",
    "        writer.append_data(image)\n"
   ]
  },
  {
   "cell_type": "markdown",
   "metadata": {
    "id": "iXAZiEqSEbDH"
   },
   "source": [
    "# 2.0 Logistic Regression\n",
    "\n",
    "In this section, we will learn how to create train a Logistic Regression Model using pytorch. We will use MNIST image, as shown below. <br><br>\n",
    "\n",
    "PyTorch (https://pytorch.org/) is an open source machine learning library based on the Torch library, used for applications such as computer vision and natural language processing, primarily developed by Facebook's AI Research lab. \n",
    "\n",
    "\n",
    "<br>\n",
    "<img src=\"https://raw.githubusercontent.com/shiernee/Advanced_ML/main/Week4/MnistExamples.png\" width=\"512\"/>\n",
    "\n"
   ]
  },
  {
   "cell_type": "code",
   "execution_count": null,
   "metadata": {
    "id": "5NXavLptEdGe"
   },
   "outputs": [],
   "source": [
    "# 2.1 import library\n",
    "import torch\n",
    "import torch.nn as nn\n",
    "import torchvision\n",
    "import torchvision.transforms as transforms\n"
   ]
  },
  {
   "cell_type": "code",
   "execution_count": null,
   "metadata": {
    "id": "crKCbRxdFD86"
   },
   "outputs": [],
   "source": [
    "#2.2 Set the Hyper-parameters \n",
    "input_size = 28 * 28  # 784\n",
    "num_classes = 10\n",
    "num_epochs = 5\n",
    "batch_size = 100\n",
    "learning_rate = 0.001\n"
   ]
  },
  {
   "cell_type": "code",
   "execution_count": null,
   "metadata": {
    "id": "cZXRWEdzFt_Z"
   },
   "outputs": [],
   "source": [
    "#2.3 Data loader\n",
    "# MNIST dataset (images and labels)\n",
    "train_dataset = torchvision.datasets.MNIST(root='../../data', \n",
    "                                           train=True, \n",
    "                                           transform=transforms.ToTensor())\n",
    "\n",
    "test_dataset = torchvision.datasets.MNIST(root='../../data', \n",
    "                                          train=False, \n",
    "                                          transform=transforms.ToTensor())\n",
    "\n",
    "# Data loader (input pipeline)\n",
    "train_loader = torch.utils.data.DataLoader(dataset=train_dataset, \n",
    "                                           batch_size=batch_size, \n",
    "                                           shuffle=True)\n",
    "\n",
    "test_loader = torch.utils.data.DataLoader(dataset=test_dataset, \n",
    "                                          batch_size=batch_size, \n",
    "                                          shuffle=False)\n"
   ]
  },
  {
   "cell_type": "code",
   "execution_count": null,
   "metadata": {
    "colab": {
     "base_uri": "https://localhost:8080/",
     "height": 587
    },
    "id": "PCMGIa6ZLxWX",
    "outputId": "8cbe4714-bd53-4744-cacc-b3b2099965de"
   },
   "outputs": [],
   "source": [
    "# 2.3.1 Check data \n",
    "print(train_dataset)\n",
    "print('----------------')\n",
    "print(test_dataset)\n",
    "print()\n",
    "\n",
    "import matplotlib.pyplot as plt\n",
    "print('training data shape: ', train_dataset.data.shape)\n",
    "n = np.random.randint(0, 60000)\n",
    "plt.imshow(train_dataset.data[n])\n",
    "plt.title(f'n = %d label = %d' % (n, train_dataset.train_labels[n].numpy()))\n"
   ]
  },
  {
   "cell_type": "code",
   "execution_count": null,
   "metadata": {
    "id": "N6ZE4roJF0HA"
   },
   "outputs": [],
   "source": [
    "#2.4 Logistic regression model\n",
    "model = nn.Linear(input_size, num_classes)\n"
   ]
  },
  {
   "cell_type": "code",
   "execution_count": null,
   "metadata": {
    "id": "XXCxm64GH27K"
   },
   "outputs": [],
   "source": [
    "#2.5 Cross Entropy Loss \n",
    "# nn.CrossEntropyLoss() computes softmax internally\n",
    "criterion = nn.CrossEntropyLoss()   \n"
   ]
  },
  {
   "cell_type": "code",
   "execution_count": null,
   "metadata": {
    "id": "pm2Q-PDcH34b"
   },
   "outputs": [],
   "source": [
    "#2.6 Optimizer Stochastic Gradient Descent \n",
    "optimizer = torch.optim.SGD(model.parameters(), lr=learning_rate)  \n"
   ]
  },
  {
   "cell_type": "code",
   "execution_count": null,
   "metadata": {
    "id": "4TO7Egs7F2o9"
   },
   "outputs": [],
   "source": [
    "#2.7 Train the model\n",
    "total_step = len(train_loader)\n",
    "for epoch in range(num_epochs):\n",
    "    for i, (images, labels) in enumerate(train_loader):\n",
    "        # Reshape images to (batch_size, input_size)\n",
    "        images = images.reshape(-1, input_size)\n",
    "        \n",
    "        # Forward pass\n",
    "        outputs = model(images)\n",
    "        loss = criterion(outputs, labels)\n",
    "\n",
    "        # Backward and optimize\n",
    "        optimizer.zero_grad()\n",
    "        loss.backward()\n",
    "        optimizer.step()\n",
    "        \n",
    "        if (i+1) % 100 == 0:\n",
    "            print ('Epoch [{}/{}], Step [{}/{}], Loss: {:.4f}' \n",
    "                   .format(epoch+1, num_epochs, i+1, total_step, loss.item()))"
   ]
  },
  {
   "cell_type": "code",
   "execution_count": null,
   "metadata": {
    "colab": {
     "base_uri": "https://localhost:8080/"
    },
    "id": "fGO_mdMZF4iS",
    "outputId": "7b99b627-0111-4f1a-9103-b7762f59baa8"
   },
   "outputs": [],
   "source": [
    "#2.8 Test the model\n",
    "# In test phase, we don't need to compute gradients (for memory efficiency)\n",
    "with torch.no_grad():\n",
    "    correct = 0\n",
    "    total = 0\n",
    "    for images, labels in test_loader:\n",
    "        images = images.reshape(-1, input_size)\n",
    "        outputs = model(images)\n",
    "        _, predicted = torch.max(outputs.data, 1)\n",
    "        total += labels.size(0)\n",
    "        correct += (predicted == labels).sum()\n",
    "\n",
    "    print('Accuracy of the model on the 10000 test images: {} %'.format(100 * correct / total))\n"
   ]
  },
  {
   "cell_type": "code",
   "execution_count": null,
   "metadata": {
    "id": "EBEBeGYsF5t-"
   },
   "outputs": [],
   "source": [
    "#2.9 Save the model checkpoint\n",
    "torch.save(model.state_dict(), 'model.ckpt')"
   ]
  },
  {
   "cell_type": "markdown",
   "metadata": {
    "id": "j6nIkwr2YM9l"
   },
   "source": [
    "## Exercise 1 (10%): Create custom loss function\n",
    "In this section, you will need to create our own Cross Entropy loss function and compare with Pytorch's Cross Entropy loss. The objective of this exercise is to enable you to design your own loss in the future. \n",
    "\n",
    "Follow the steps below:\n",
    "1. Import libraries - copy section 2.1\n",
    "2. Set hyperparameter - copy section 2.2\n",
    "3. Data loader - copy section 2.3\n",
    "4. Initialize Logistic Regression - copy section 2.4\n",
    "5. Create custom_CrossEntropyLoss class - copy the following code. Your task is to ***code the log_softmax equation in the log_softmax function.*** \n",
    "\n",
    "```\n",
    "#  Custom Loss - Cross Entropy Loss\n",
    "class custom_CrossEntropyLoss(nn.Module):\n",
    "    def __init__(self, weight=None, size_average=True):\n",
    "        super(custom_CrossEntropyLoss, self).__init__()\n",
    " \n",
    "    def forward(self, inputs, targets, smooth=1):      \n",
    "        num_examples = targets.shape[0]\n",
    "        batch_size = inputs.shape[0]\n",
    "        softmax_outputs = self.log_softmax(inputs)\n",
    "        outputs = softmax_outputs[range(batch_size), targets]        \n",
    "        return -torch.sum(outputs)/num_examples\n",
    "\n",
    "    @staticmethod\n",
    "    def log_softmax(x):\n",
    "      return ### put the log_softmax function here ### \n",
    "```\n",
    "\n",
    "6. Initialize custom_CrossEntropyLoss loss as criterion - copy section 2.5. Replace *nn.CrossEntropyLoss* with *custom_CrossEntropyLoss*\n",
    "7. Train the model, evaluate it on your testing data. Save your model. \n",
    "8. Compare the loss computed from torch and our custom loss.  \n",
    "\n",
    "\n",
    " 5% will be  given if step 1 - 4 are done correctly <br>\n",
    " 3% will be  given if step 5-7 is done correctly <br>\n",
    " 2% will be given if your custom loss and pytorch loss is near zero. "
   ]
  },
  {
   "cell_type": "code",
   "execution_count": null,
   "metadata": {
    "id": "7azur5ciavP2"
   },
   "outputs": [],
   "source": [
    "# your code here"
   ]
  },
  {
   "cell_type": "markdown",
   "metadata": {
    "id": "2d7IdSoak0p2"
   },
   "source": [
    "# Submission Instructions\n",
    "Once you are finished, follow these steps:\n",
    "\n",
    "Restart the kernel and re-run this notebook from beginning to end by going to Kernel > Restart Kernel and Run All Cells.\n",
    "If this process stops halfway through, that means there was an error. Correct the error and repeat Step 1 until the notebook runs from beginning to end.\n",
    "Double check that there is a number next to each code cell and that these numbers are in order.\n",
    "Then, submit your lab as follows:\n",
    "\n",
    "Go to File > Print > Save as PDF.\n",
    "Double check that the entire notebook, from beginning to end, is in this PDF file. Make sure Solution for Exercise 5 are in for marks. \n",
    "Upload the PDF to Spectrum. "
   ]
  }
 ],
 "metadata": {
  "colab": {
   "authorship_tag": "ABX9TyMTgQdYvrjN0mSEo1r267hp",
   "collapsed_sections": [],
   "include_colab_link": true,
   "name": "WOA7015_Wk4.ipynb",
   "provenance": []
  },
  "kernelspec": {
   "display_name": "Python 3 (ipykernel)",
   "language": "python",
   "name": "python3"
  },
  "language_info": {
   "codemirror_mode": {
    "name": "ipython",
    "version": 3
   },
   "file_extension": ".py",
   "mimetype": "text/x-python",
   "name": "python",
   "nbconvert_exporter": "python",
   "pygments_lexer": "ipython3",
   "version": "3.9.13"
  }
 },
 "nbformat": 4,
 "nbformat_minor": 4
}
